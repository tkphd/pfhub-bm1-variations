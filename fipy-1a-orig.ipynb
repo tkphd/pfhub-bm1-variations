{
 "cells": [
  {
   "cell_type": "markdown",
   "id": "9a3d053f",
   "metadata": {},
   "source": [
    "# PFHub BM 1a in FiPy with Steppyngstounes\n",
    "\n",
    "This notebook implements [PFHub] Benchmark [1a][spinodal] using [FiPy] and [steppyngstounes].\n",
    "It also explores alternative initial conditions that are more-periodic than the specification.\n",
    "The variants are as follows.\n",
    "\n",
    "## orig\n",
    "\n",
    "This is the initial condition as specified in BM 1a v1.0;\n",
    "it is not periodic at all.\n",
    "\n",
    "$$\n",
    "c_0 = 0.5 + 0.01 \\left\\{\n",
    "           \\cos(0.105 x) \\cos(0.110 y) \\\\\n",
    "        + \\left[\\cos(0.130 x) \\cos(0.087 y)\\right]^2 \\\\\n",
    "        +  \\cos(0.025 x  - 0.150 y)\n",
    "           \\cos(0.070 x  - 0.020 y)\n",
    "    \\right\\}\n",
    "$$\n",
    "\n",
    "## peri\n",
    "\n",
    "Using even integer coefficients, this initial condition is exactly periodic at the boundary.\n",
    "\n",
    "$$\n",
    "c_0 = 0.5 + 0.01 \\left\\{\n",
    "           \\cos\\left(\\frac{6\\pi}{L_\\mathrm{x}} x\\right) \n",
    "           \\cos\\left(\\frac{8\\pi}{L_\\mathrm{y}} y\\right) \\\\\n",
    "        + \\left[\n",
    "             \\cos\\left(\\frac{8\\pi}{L_\\mathrm{x}} x\\right) \n",
    "             \\cos\\left(\\frac{6\\pi}{L_\\mathrm{y}} y\\right)\n",
    "           \\right]^2 \\\\\n",
    "        +  \\cos\\left(\n",
    "               \\frac{2\\pi}{L_\\mathrm{x}} x\n",
    "             - \\frac{10\\pi}{L_\\mathrm{y}} y\\right)\n",
    "           \\cos\\left(\n",
    "               \\frac{4\\pi}{L_\\mathrm{x}} x\n",
    "             - \\frac{2\\pi}{L_\\mathrm{y}} y\\right)\n",
    "    \\right\\}\n",
    "$$\n",
    "\n",
    "## zany\n",
    "\n",
    "By perturbing the exactly-periodic coefficients, we can restore some of the original appearance.\n",
    "\n",
    "$$\n",
    "c_0 = 0.5 + 0.01 \\left\\{\n",
    "           \\cos\\left(\\frac{6.125\\pi}{L_\\mathrm{x}} x\\right)\n",
    "           \\cos\\left(\\frac{7.875\\pi}{L_\\mathrm{y}} y\\right)\\\\\n",
    "        + \\left[\n",
    "             \\cos\\left(\\frac{7.875\\pi}{L_\\mathrm{x}} x\\right)\n",
    "             \\cos\\left(\\frac{5.125\\pi}{L_\\mathrm{y}} y\\right)\n",
    "           \\right]^2 \\\\\n",
    "        +  \\cos\\left(\n",
    "               \\frac{2.125\\pi}{L_\\mathrm{x}} x  \n",
    "             - \\frac{9.875\\pi}{L_\\mathrm{y}} y\\right)\n",
    "           \\cos\\left(\n",
    "               \\frac{4.125\\pi}{L_\\mathrm{x}} x  \n",
    "             - \\frac{1.875\\pi}{L_\\mathrm{y}} y\\right)\n",
    "    \\right\\}\n",
    "$$\n",
    "\n",
    "\n",
    "<!-- links -->\n",
    "[FiPy]: https://www.ctcms.nist.gov/fipy\n",
    "[spinodal]: https://pages.nist.gov/pfhub/benchmarks/benchmark1.ipynb/#(a)-Square-periodic\n",
    "[steppyngstounes]: https://github.com/usnistgov/steppyngstounes\n",
    "[PFHub]: https://pages.nist.gov/pfhub/"
   ]
  },
  {
   "cell_type": "code",
   "execution_count": null,
   "id": "34f0a1d2",
   "metadata": {
    "scrolled": true
   },
   "outputs": [],
   "source": [
    "%matplotlib inline\n",
    "\n",
    "import time\n",
    "startTime = time.time()\n",
    "\n",
    "import gc\n",
    "import matplotlib.pyplot as plt\n",
    "import os\n",
    "import pandas\n",
    "import psutil\n",
    "\n",
    "from fipy import FaceVariable, CellVariable\n",
    "from fipy import DiffusionTerm, ImplicitSourceTerm, TransientTerm\n",
    "from fipy import numerix, parallel, Viewer\n",
    "\n",
    "from fipy import PeriodicGrid2D as Grid2D\n",
    "\n",
    "from fipy.solvers.petsc import LinearLUSolver as Solver\n",
    "from fipy.solvers.petsc.comms import petscCommWrapper\n",
    "\n",
    "from petsc4py import PETSc\n",
    "\n",
    "from steppyngstounes import CheckpointStepper, PIDStepper\n",
    "\n",
    "cos  = numerix.cos\n",
    "pi   = numerix.pi\n",
    "ceil = numerix.ceil\n",
    "log10 = numerix.log10"
   ]
  },
  {
   "cell_type": "code",
   "execution_count": null,
   "id": "600bbf46",
   "metadata": {},
   "outputs": [],
   "source": [
    "proc = psutil.Process()\n",
    "comm = petscCommWrapper.PETScCommWrapper()\n",
    "rank = parallel.procID\n",
    "\n",
    "def mprint(*args, **kwargs):\n",
    "    if rank == 0:\n",
    "        print(*args, **kwargs)"
   ]
  },
  {
   "cell_type": "markdown",
   "id": "2b0e1e73",
   "metadata": {},
   "source": [
    "## Prepare mesh & phase field"
   ]
  },
  {
   "cell_type": "code",
   "execution_count": null,
   "id": "b5cf13cf",
   "metadata": {},
   "outputs": [],
   "source": [
    "Lx = Ly = 200\n",
    "dx = dy = 1.0\n",
    "nx = int(Lx / dx)\n",
    "ny = int(Ly / dy)\n",
    "\n",
    "mesh = Grid2D(nx=nx, ny=ny, dx=dx, dy=dy)\n",
    "x, y = mesh.cellCenters\n",
    "\n",
    "c = CellVariable(mesh=mesh, name=r\"$c$\",   hasOld=True)\n",
    "μ = CellVariable(mesh=mesh, name=r\"$\\mu$\", hasOld=True)"
   ]
  },
  {
   "cell_type": "markdown",
   "id": "fc0e7b64",
   "metadata": {},
   "source": [
    "### Set thermo-kinetic constants from the BM1 specification"
   ]
  },
  {
   "cell_type": "code",
   "execution_count": null,
   "id": "fa2090dd",
   "metadata": {},
   "outputs": [],
   "source": [
    "α = 0.3\n",
    "β = 0.7\n",
    "ρ = 5.0\n",
    "κ = 2.0\n",
    "M = 5.0\n",
    "c0 = 0.5\n",
    "ϵ = 0.01\n",
    "\n",
    "t = 0.0\n",
    "dt = 1e-5\n",
    "fin = 1_500_000\n",
    "fin10 = log10(fin)\n",
    "\n",
    "# Write to disk uniformly in logarithmic time\n",
    "# (Bad algorithm: lots of duplicated integers!)\n",
    "chkpts = [\n",
    "    int(float(10**q)) for q in\n",
    "    numerix.arange(0, fin10, 0.005)\n",
    "]\n",
    "if chkpts[-1] < fin:\n",
    "    chkpts.append(fin)\n",
    "chkpts = numerix.unique(chkpts)"
   ]
  },
  {
   "cell_type": "markdown",
   "id": "2931affb",
   "metadata": {},
   "source": [
    "## Define equations of motion\n",
    "\n",
    "This is based on [fipy.examples.cahnHilliard.mesh2DCoupled],\n",
    "using a first-order Taylor series substitution in place of the bulk free energy \"source term\".\n",
    "The coupled equations are\n",
    "\n",
    "$$\n",
    "\\frac{\\partial c}{\\partial t} = \\nabla \\cdot M\\nabla\\mu\n",
    "$$\n",
    "\n",
    "$$\n",
    "\\mu = \\left(\\frac{\\partial f_{\\mathrm{bulk}}}{\\partial c} - \\frac{\\partial^2 f_{\\mathrm{bulk}}}{\\partial c^2} \\cdot c\\right)_{\\mathrm{old}} + \\frac{\\partial^2 f_{\\mathrm{bulk}}}{\\partial c^2}\\cdot c - \\kappa \\nabla^2 c\n",
    "$$\n",
    "\n",
    "where the second term on $\\mu$ is an `ImplicitSourceTerm` and the last is a `DiffusionTerm`.\n",
    "\n",
    "[fipy.examples.cahnHilliard.mesh2DCoupled]: https://www.ctcms.nist.gov/fipy/examples/cahnHilliard/generated/examples.cahnHilliard.mesh2DCoupled.html"
   ]
  },
  {
   "cell_type": "code",
   "execution_count": null,
   "id": "2cb781ff",
   "metadata": {},
   "outputs": [],
   "source": [
    "# ## Uncomment and run this cell to double-check the derivatives.\n",
    "\n",
    "# import sympy.abc\n",
    "# from sympy import Eq, diff, expand, factor, symbols\n",
    "# fbulk = sympy.abc.rho * (sympy.abc.c - sympy.abc.alpha)**2 \\\n",
    "#                       * (sympy.abc.beta - sympy.abc.c)**2\n",
    "\n",
    "# display(Eq(symbols(\"f\"), fchem))\n",
    "# display(Eq(symbols(\"f'\"), factor(diff(fchem,\n",
    "#                                       sympy.abc.c))))\n",
    "# display(Eq(symbols(\"f''\"), factor(expand(diff(fbulk,\n",
    "#                                              sympy.abc.c,\n",
    "#                                              sympy.abc.c)))))"
   ]
  },
  {
   "cell_type": "markdown",
   "id": "9df0bb19",
   "metadata": {},
   "source": [
    "The free energy density and its first two derivatives are (refactored after SymPy)\n",
    "\n",
    "$$f_{\\mathrm{bulk}} = \\rho (c - \\alpha)^2 (\\beta - c)^2$$\n",
    "\n",
    "$$f'_{\\mathrm{bulk}} = 2\\rho (c - \\alpha)(\\beta - c)(\\alpha - 2c + \\beta)$$\n",
    "\n",
    "$$f''_{\\mathrm{bulk}} = 2\\rho\\left\\{\\alpha^2 + 4 \\alpha \\beta + \\beta^2 - 6 c \\left(\\alpha - c + \\beta\\right)\\right\\}$$"
   ]
  },
  {
   "cell_type": "code",
   "execution_count": null,
   "id": "f6e66da6",
   "metadata": {},
   "outputs": [],
   "source": [
    "fbulk = ρ * (c - α)**2 * (β - c)**2\n",
    "d1fdc = 2 * ρ * (c - α) * (β - c) * (α - 2 * c + β)\n",
    "d2fdc = 2 * ρ * (α**2 + 4*α*β + β**2 - 6 * c * (α - c + β))"
   ]
  },
  {
   "cell_type": "code",
   "execution_count": null,
   "id": "d8bb3e75",
   "metadata": {},
   "outputs": [],
   "source": [
    "eom_c = TransientTerm(var=c) == DiffusionTerm(coeff=M, var=μ)\n",
    "\n",
    "eom_μ = ImplicitSourceTerm(coeff=1.0, var=μ) \\\n",
    "     == (d1fdc - d2fdc * c) \\\n",
    "      + ImplicitSourceTerm(coeff=d2fdc, var=c) \\\n",
    "      - DiffusionTerm(coeff=κ, var=c)\n",
    "\n",
    "eom = eom_c & eom_μ"
   ]
  },
  {
   "cell_type": "markdown",
   "id": "cb5839aa",
   "metadata": {},
   "source": [
    "## Initial Conditions"
   ]
  },
  {
   "cell_type": "code",
   "execution_count": null,
   "id": "63ddef17",
   "metadata": {
    "scrolled": false
   },
   "outputs": [],
   "source": [
    "# Choose your variant: \"orig\", \"peri\", or \"zany\"\n",
    "\n",
    "variant = \"peri\"\n",
    "\n",
    "if variant == \"orig\":\n",
    "    # BM 1a specification v1.0: not periodic at all\n",
    "    A0 = numerix.array([0.105, 0.130, 0.025, 0.070])\n",
    "    B0 = numerix.array([0.110, 0.087,-0.150,-0.020])\n",
    "elif variant == \"peri\":\n",
    "    # Even integers as close to spec as achievable:\n",
    "    # exactly periodic at the domain boundaries\n",
    "    A0 = pi/Lx * numerix.array([6.0, 8.0, 2.0, 4.0])\n",
    "    B0 = pi/Ly * numerix.array([8.0, 6.0,-10.,-2.0])\n",
    "elif variant == \"zany\":\n",
    "    # Perturbation of the periodic coefficients:\n",
    "    # almost periodic, visually similar to the original\n",
    "    A0 = pi/Lx * numerix.array([6.125, 7.875, 2.125, 4.125])\n",
    "    B0 = pi/Ly * numerix.array([7.875, 5.125,-9.875,-1.875])\n",
    "else:\n",
    "    raise ValueError(\"Variant {} undefined.\".format(variant))\n",
    "\n",
    "iodir = variant\n",
    "if not os.path.exists(iodir):\n",
    "      os.mkdir(iodir)"
   ]
  },
  {
   "cell_type": "code",
   "execution_count": null,
   "id": "2b906b96",
   "metadata": {},
   "outputs": [],
   "source": [
    "def initialize(A, B):\n",
    "    return c0 + ϵ * (\n",
    "           cos(A[0] * x) * cos(B[0] * y) \\\n",
    "        + (cos(A[1] * x) * cos(B[1] * y))**2 \\\n",
    "        +  cos(A[2] * x  +     B[2] * y) \\\n",
    "        *  cos(A[3] * x  +     B[3] * y)\n",
    "    )\n",
    "\n",
    "c.value = initialize(A0, B0)\n",
    "μ.value = d1fdc[:]\n",
    "\n",
    "c.updateOld()\n",
    "μ.updateOld()"
   ]
  },
  {
   "cell_type": "markdown",
   "id": "2355684f",
   "metadata": {},
   "source": [
    "## Prepare free energy output"
   ]
  },
  {
   "cell_type": "code",
   "execution_count": null,
   "id": "a129002a",
   "metadata": {},
   "outputs": [],
   "source": [
    "df = None\n",
    "\n",
    "labs = [\n",
    "    \"wall_time\", \n",
    "    \"time\",     \n",
    "    \"free_energy\",\n",
    "    \"mem_GB\",    \n",
    "    \"timestep\", \n",
    "    \"mass\"\n",
    "]\n",
    "\n",
    "if rank == 0:  # write the CSV header\n",
    "    fcsv = \"{}/energy.csv\".format(iodir)\n",
    "    with open(fcsv, \"w\") as fh:\n",
    "        fh.write(\"{},{},{},{},{},{}\\n\".format(*labs))\n",
    "else:\n",
    "    fcsv = None\n",
    "\n",
    "def update_energy(fh=None):\n",
    "    # Integration of fields: CellVolumeAverage, .sum(), \n",
    "    nrg = (fbulk - 0.5 * κ * numerix.dot(c.grad, c.grad)).sum()\n",
    "    mas = c.sum()\n",
    "    mem = comm.allgather(proc.memory_info().rss) / 1024**3\n",
    "    if rank == 0:\n",
    "        timer = time.time() - startTime\n",
    "    \n",
    "        vals = [timer, t, nrg, mem, dt, mas]\n",
    "        \n",
    "        with open(fcsv, \"a\") as fh:\n",
    "            fh.write(\"{},{},{},{},{},{}\\n\".format(*vals))\n",
    "        \n",
    "update_energy(fcsv)"
   ]
  },
  {
   "cell_type": "markdown",
   "id": "eed29622",
   "metadata": {},
   "source": [
    "## Timestepping"
   ]
  },
  {
   "cell_type": "code",
   "execution_count": null,
   "id": "f04765dd",
   "metadata": {},
   "outputs": [],
   "source": [
    "rtol = 1e-3\n",
    "solver = Solver()\n",
    "\n",
    "# mprint(\"Writing a checkpoint at the following times:\")\n",
    "# mprint(chkpts)"
   ]
  },
  {
   "cell_type": "code",
   "execution_count": null,
   "id": "2f14bd52",
   "metadata": {},
   "outputs": [],
   "source": [
    "viewer = Viewer(vars=(c,), \n",
    "                title=\"$t = 0$\",\n",
    "                datamin=c.min(), datamax=c.max())\n",
    "\n",
    "def write_plot():\n",
    "    imgname = \"%s/spinodal.%08d.png\" % (iodir, int(t))\n",
    "    if rank == 0 and not os.path.exists(imgname):\n",
    "        viewer.title = r\"$t = %12g$\" % t\n",
    "        viewer.datamin = float(c.min())\n",
    "        viewer.datamax = float(c.max())\n",
    "        viewer.plot(filename=imgname)\n",
    "\n",
    "\n",
    "write_plot()"
   ]
  },
  {
   "cell_type": "code",
   "execution_count": null,
   "id": "3b875fb3",
   "metadata": {},
   "outputs": [],
   "source": [
    "def stepper(check):\n",
    "    global dt\n",
    "    global t\n",
    "\n",
    "    for step in PIDStepper(start=check.begin,\n",
    "                           stop=check.end,\n",
    "                           size=dt):\n",
    "        mprint(\"    Stepping [{:12g} .. {:12g}) / {:12g}\".format(\n",
    "            float(step.begin), float(step.end), float(step.size)),\n",
    "               end=\" \")\n",
    "        \n",
    "        for sweep in range(2):\n",
    "            res = eom.sweep(dt=step.size, solver=solver)      \n",
    "\n",
    "        if step.succeeded(error=res/rtol):\n",
    "            mprint(\"✔\")\n",
    "            dt = step.size\n",
    "            t += dt\n",
    "            c.updateOld()\n",
    "            μ.updateOld()\n",
    "            update_energy(fcsv)\n",
    "        else:\n",
    "            mprint(\"✘\")\n",
    "            c.value = c.old\n",
    "            μ.value = μ.old\n",
    "\n",
    "        PETSc.garbage_cleanup()\n",
    "\n",
    "    dt = step.want\n",
    "    \n",
    "    write_plot()\n",
    "    viewer.plot()"
   ]
  },
  {
   "cell_type": "code",
   "execution_count": null,
   "id": "aa0e6f11",
   "metadata": {},
   "outputs": [],
   "source": [
    "def checkers():\n",
    "    global dt\n",
    "    global t\n",
    "    for check in CheckpointStepper(start=0.0,\n",
    "                                   stops=chkpts,\n",
    "                                   stop=fin):\n",
    "        mprint(\"Launching [{:12g} .. {:12g})\".format(\n",
    "            check.begin, check.end))\n",
    "\n",
    "        stepper(check)\n",
    "\n",
    "        _ = check.succeeded()\n",
    "\n",
    "        gc.collect()"
   ]
  },
  {
   "cell_type": "code",
   "execution_count": null,
   "id": "b44333b3",
   "metadata": {
    "scrolled": true
   },
   "outputs": [],
   "source": [
    "checkers()\n",
    "plt.close()"
   ]
  },
  {
   "cell_type": "code",
   "execution_count": null,
   "id": "629d2be6",
   "metadata": {},
   "outputs": [],
   "source": [
    "df = pandas.read_csv(\"{}/energy.csv\".format(iodir))"
   ]
  },
  {
   "cell_type": "code",
   "execution_count": null,
   "id": "55d5f11e",
   "metadata": {},
   "outputs": [],
   "source": [
    "plt.figure(1)\n",
    "plt.xlabel(r\"time $t$ / [a.u.]\")\n",
    "plt.ylabel(r\"Free energy $\\mathcal{F}$ / [J/m³]\")\n",
    "plt.semilogy(df.time, df.free_energy)\n",
    "plt.savefig(\"{}/energy.png\".format(iodir), bbox_inches=\"tight\")\n",
    "plt.close()"
   ]
  },
  {
   "cell_type": "code",
   "execution_count": null,
   "id": "7273cc41",
   "metadata": {},
   "outputs": [],
   "source": [
    "plt.figure(2)\n",
    "plt.xlabel(r\"time $t$ / [a.u.]\")\n",
    "plt.ylabel(\"Memory / [GB]\")\n",
    "plt.semilogy(df.time, df.mem_GB)\n",
    "plt.savefig(\"{}/memory.png\".format(iodir), bbox_inches=\"tight\")\n",
    "plt.close()"
   ]
  }
 ],
 "metadata": {
  "kernelspec": {
   "display_name": "Python 3 (ipykernel)",
   "language": "python",
   "name": "python3"
  },
  "language_info": {
   "codemirror_mode": {
    "name": "ipython",
    "version": 3
   },
   "file_extension": ".py",
   "mimetype": "text/x-python",
   "name": "python",
   "nbconvert_exporter": "python",
   "pygments_lexer": "ipython3",
   "version": "3.10.8"
  }
 },
 "nbformat": 4,
 "nbformat_minor": 5
}
