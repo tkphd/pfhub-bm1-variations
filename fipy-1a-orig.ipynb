{
 "cells": [
  {
   "cell_type": "markdown",
   "id": "9a3d053f",
   "metadata": {},
   "source": [
    "# PFHub BM 1a in FiPy with Steppyngstounes\n",
    "\n",
    "This notebook implements [PFHub] Benchmark [1a][spinodal] using [FiPy] and [steppyngstounes].\n",
    "It also explores alternative initial conditions that are more-periodic than the specification.\n",
    "\n",
    "<!-- links -->\n",
    "[FiPy]: https://www.ctcms.nist.gov/fipy\n",
    "[spinodal]: https://pages.nist.gov/pfhub/benchmarks/benchmark1.ipynb/#(a)-Square-periodic\n",
    "[steppyngstounes]: https://github.com/usnistgov/steppyngstounes\n",
    "[PFHub]: https://pages.nist.gov/pfhub/"
   ]
  },
  {
   "cell_type": "code",
   "execution_count": null,
   "id": "34f0a1d2",
   "metadata": {
    "scrolled": true
   },
   "outputs": [],
   "source": [
    "import gc\n",
    "import os\n",
    "import psutil\n",
    "import time\n",
    "\n",
    "from fipy import Variable, FaceVariable, CellVariable\n",
    "from fipy import DiffusionTerm, ImplicitSourceTerm, TransientTerm\n",
    "from fipy import numerix, parallel, Viewer\n",
    "\n",
    "from fipy import Grid2D\n",
    "# from fipy import PeriodicGrid2D as Grid2D\n",
    "from fipy.solvers.petsc import LinearLUSolver as Solver\n",
    "from fipy.solvers.petsc.comms import petscCommWrapper\n",
    "\n",
    "from steppyngstounes import CheckpointStepper, PIDStepper"
   ]
  },
  {
   "cell_type": "code",
   "execution_count": null,
   "id": "600bbf46",
   "metadata": {},
   "outputs": [],
   "source": [
    "try:\n",
    "    startTime = time.time_ns()\n",
    "    time_has_ns = True\n",
    "except AttributeError:\n",
    "    startTime = time.time()\n",
    "    time_has_ns = False\n",
    "\n",
    "cos = numerix.cos\n",
    "pi = numerix.pi\n",
    "proc = psutil.Process()\n",
    "\n",
    "comm = petscCommWrapper.PETScCommWrapper()\n",
    "procID = parallel.procID"
   ]
  },
  {
   "cell_type": "markdown",
   "id": "2b0e1e73",
   "metadata": {},
   "source": [
    "## Prepare mesh & phase field"
   ]
  },
  {
   "cell_type": "code",
   "execution_count": null,
   "id": "b5cf13cf",
   "metadata": {},
   "outputs": [],
   "source": [
    "nx = ny = 200\n",
    "dx = dy = 1\n",
    "Lx = nx * dx\n",
    "Ly = ny * dy\n",
    "\n",
    "mesh = Grid2D(nx=nx, ny=ny, dx=dx, dy=dy)\n",
    "x, y = mesh.cellCenters\n",
    "\n",
    "c = CellVariable(mesh=mesh, name=r\"$c$\",   value=0.0, hasOld=True)\n",
    "μ = CellVariable(mesh=mesh, name=r\"$\\mu$\", value=0.5, hasOld=True)"
   ]
  },
  {
   "cell_type": "markdown",
   "id": "fc0e7b64",
   "metadata": {},
   "source": [
    "### Set thermo-kinetic constants from the BM1 specification"
   ]
  },
  {
   "cell_type": "code",
   "execution_count": null,
   "id": "fa2090dd",
   "metadata": {},
   "outputs": [],
   "source": [
    "α = 0.3\n",
    "β = 0.7\n",
    "ρ = 5\n",
    "κ = 2\n",
    "M = 5"
   ]
  },
  {
   "cell_type": "markdown",
   "id": "2931affb",
   "metadata": {},
   "source": [
    "## Define equations of motion\n",
    "\n",
    "This is based on [fipy.examples.cahnHilliard.mesh2DCoupled],\n",
    "using a first-order Taylor series substitution in place of the bulk free energy \"source term\".\n",
    "The coupled equations are\n",
    "\n",
    "$$\n",
    "\\frac{\\partial c}{\\partial t} = \\nabla \\cdot M\\nabla\\mu\n",
    "$$\n",
    "\n",
    "$$\n",
    "\\mu = \\left(\\frac{\\partial f_{\\mathrm{bulk}}}{\\partial c} - \\frac{\\partial^2 f_{\\mathrm{bulk}}}{\\partial c^2} \\cdot c\\right)_{\\mathrm{old}} + \\frac{\\partial^2 f_{\\mathrm{bulk}}}{\\partial c^2}\\cdot c - \\kappa \\nabla^2 c\n",
    "$$\n",
    "\n",
    "where the second term on $\\mu$ is an `ImplicitSourceTerm` and the last is a `DiffusionTerm`.\n",
    "\n",
    "[fipy.examples.cahnHilliard.mesh2DCoupled]: https://www.ctcms.nist.gov/fipy/examples/cahnHilliard/generated/examples.cahnHilliard.mesh2DCoupled.html"
   ]
  },
  {
   "cell_type": "code",
   "execution_count": null,
   "id": "2cb781ff",
   "metadata": {},
   "outputs": [],
   "source": [
    "\"\"\"\n",
    "## Uncomment and run this cell to double-check the derivatives.\n",
    "\n",
    "import sympy.abc\n",
    "from sympy import Eq, diff, expand, factor, symbols\n",
    "fbulk = sympy.abc.rho * (sympy.abc.c - sympy.abc.alpha)**2 \\\n",
    "                      * (sympy.abc.beta - sympy.abc.c)**2\n",
    "\n",
    "display(Eq(symbols(\"f\"), fchem))\n",
    "display(Eq(symbols(\"f'\"), factor(diff(fchem,\n",
    "                                      sympy.abc.c))))\n",
    "display(Eq(symbols(\"f''\"), factor(expand(diff(fbulk,\n",
    "                                             sympy.abc.c,\n",
    "                                             sympy.abc.c)))))\n",
    "\"\"\""
   ]
  },
  {
   "cell_type": "markdown",
   "id": "9df0bb19",
   "metadata": {},
   "source": [
    "The free energy density and its first two derivatives are (refactored after SymPy)\n",
    "\n",
    "$$f_{\\mathrm{bulk}} = \\rho (c - \\alpha)^2 (\\beta - c)^2$$\n",
    "\n",
    "$$f'_{\\mathrm{bulk}} = 2\\rho (c - \\alpha)(\\beta - c)(\\alpha - 2c + \\beta)$$\n",
    "\n",
    "$$f''_{\\mathrm{bulk}} = 2\\rho\\left\\{\\alpha^2 + 4 \\alpha \\beta + \\beta^2 - 6 c \\left(\\alpha - c + \\beta\\right)\\right\\}$$"
   ]
  },
  {
   "cell_type": "code",
   "execution_count": null,
   "id": "f6e66da6",
   "metadata": {},
   "outputs": [],
   "source": [
    "fbulk = ρ * (c - α)**2 * (β - c)**2\n",
    "d1fdc = 2 * ρ * (c - α) * (β - c) * (α - 2 * c + β)\n",
    "d2fdc = 2 * ρ * (α**2 + 4*α*β + β**2 - 6 * c * (α - c + β))"
   ]
  },
  {
   "cell_type": "code",
   "execution_count": null,
   "id": "d8bb3e75",
   "metadata": {},
   "outputs": [],
   "source": [
    "eom_c = TransientTerm(var=c) == DiffusionTerm(coeff=M, var=μ)\n",
    "\n",
    "eom_μ = ImplicitSourceTerm(coeff=1.0, var=μ) \\\n",
    "     == (d1fdc - d2fdc * c) \\\n",
    "      + ImplicitSourceTerm(coeff=d2fdc, var=c) \\\n",
    "      - DiffusionTerm(coeff=κ, var=c)\n",
    "\n",
    "eom = eom_c & eom_μ"
   ]
  },
  {
   "cell_type": "markdown",
   "id": "cb5839aa",
   "metadata": {},
   "source": [
    "## Initial Conditions -- As Specified"
   ]
  },
  {
   "cell_type": "code",
   "execution_count": null,
   "id": "63ddef17",
   "metadata": {
    "scrolled": false
   },
   "outputs": [],
   "source": [
    "iodir = \"1a.0\"\n",
    "\n",
    "if not os.path.exists(iodir):\n",
    "    os.mkdir(iodir)"
   ]
  },
  {
   "cell_type": "code",
   "execution_count": null,
   "id": "2b906b96",
   "metadata": {},
   "outputs": [],
   "source": [
    "t = Variable(0.0)\n",
    "dt = Variable(1e-5)\n",
    "\n",
    "c0 = 0.5\n",
    "ϵ = 0.01\n",
    "\n",
    "def initialize(A, B):\n",
    "    return c0 + ϵ * (\n",
    "           cos(A[0] * x) * cos(B[0] * y) \\\n",
    "        + (cos(A[1] * x) * cos(B[1] * y))**2 \\\n",
    "        +  cos(A[2] * x  +     B[2] * y) \\\n",
    "        *  cos(A[3] * x  +     B[3] * y)\n",
    "    )"
   ]
  },
  {
   "cell_type": "code",
   "execution_count": null,
   "id": "6eedb522",
   "metadata": {},
   "outputs": [],
   "source": [
    "# BM 1a specification: not periodic at all\n",
    "\n",
    "A0 = [0.105, 0.130, 0.025, 0.070]\n",
    "B0 = [0.110, 0.087,-0.150,-0.020]\n",
    "\n",
    "c.value = initialize(A0, B0)\n",
    "\n",
    "c.updateOld()\n",
    "μ.updateOld()"
   ]
  },
  {
   "cell_type": "markdown",
   "id": "2355684f",
   "metadata": {},
   "source": [
    "## Prepare free energy output"
   ]
  },
  {
   "cell_type": "code",
   "execution_count": null,
   "id": "a129002a",
   "metadata": {},
   "outputs": [],
   "source": [
    "df = None\n",
    "\n",
    "labs = [\n",
    "    \"wall_time\", \n",
    "    \"time\",     \n",
    "    \"free_energy\",\n",
    "    \"mem_GB\",    \n",
    "    \"timestep\", \n",
    "    \"mass\"\n",
    "]\n",
    "\n",
    "if procID == 0:  # write the CSV header\n",
    "    fcsv = \"{}/energy.csv\".format(iodir)\n",
    "    with open(fcsv, \"w\") as fh:\n",
    "        fh.write(\"{},{},{},{},{},{}\\n\".format(*labs))\n",
    "else:\n",
    "    fcsv = None\n",
    "\n",
    "def update_energy(fh=None):\n",
    "    # Integration of fields: CellVolumeAverage, .sum(), \n",
    "    nrg = (fbulk - 0.5 * κ * numerix.dot(c.grad, c.grad)).sum()\n",
    "    mas = c.sum()\n",
    "    mem = comm.allgather(proc.memory_info().rss) / 1024**3\n",
    "    if procID == 0:\n",
    "        if time_has_ns:\n",
    "            timer = 1e-9 * (time.time_ns() - startTime)\n",
    "        else:\n",
    "            timer = time.time() - startTime\n",
    "    \n",
    "        vals = [timer, t, nrg, mem, dt, mas]\n",
    "        \n",
    "        with open(fcsv, \"a\") as fh:\n",
    "            fh.write(\"{},{},{},{},{},{}\\n\".format(*vals))\n",
    "        \n",
    "update_energy(fcsv)"
   ]
  },
  {
   "cell_type": "markdown",
   "id": "eed29622",
   "metadata": {},
   "source": [
    "## Timestepping"
   ]
  },
  {
   "cell_type": "code",
   "execution_count": null,
   "id": "f04765dd",
   "metadata": {},
   "outputs": [],
   "source": [
    "fin = 2e6\n",
    "rtol = 1e-3\n",
    "solver = Solver()\n",
    "\n",
    "# Write to disk every 1, 2, 5, 10, 20, 50, ...\n",
    "chkpts = [p * 10**q \\\n",
    "          for q in range(3) \\\n",
    "          for p in (1, 2, 5)]\n",
    "\n",
    "print(\"Writing a checkpoint at the following times:\")\n",
    "print(chkpts)"
   ]
  },
  {
   "cell_type": "code",
   "execution_count": null,
   "id": "b44333b3",
   "metadata": {},
   "outputs": [],
   "source": [
    "for check in CheckpointStepper(start=0.0,\n",
    "                               stops=chkpts,\n",
    "                               stop=fin):\n",
    "    for step in PIDStepper(start=check.begin,\n",
    "                           stop=check.end, \n",
    "                           size=dt):\n",
    "        for sweep in range(2):\n",
    "            res = eom.sweep(dt=step.size, solver=solver)\n",
    "    \n",
    "        if step.succeeded(error=res/rtol):\n",
    "            t.value = step.end\n",
    "            dt = step.size\n",
    "            c.updateOld()\n",
    "            μ.updateOld()\n",
    "            update_energy(fcsv)\n",
    "        else:\n",
    "            c.value = c.old\n",
    "            μ.value = μ.old\n",
    "\n",
    "        gc.collect()\n",
    "        \n",
    "    if check.succeeded():\n",
    "        dt = step.want\n",
    "        # df.to_csv(\"{}/energy.csv.gz\".format(iodir))\n",
    "        # write_img()\n",
    "        # update_display(df.tail(), display_id=\"nrg\")\n",
    "        # update_display(viewer.plot(), display_id=\"plt\")\n",
    "        # viewer.title = r\"$t=%g$\" % t\n",
    "        # viewer.plot()"
   ]
  },
  {
   "cell_type": "code",
   "execution_count": null,
   "id": "629d2be6",
   "metadata": {},
   "outputs": [],
   "source": []
  }
 ],
 "metadata": {
  "kernelspec": {
   "display_name": "Python 3 (ipykernel)",
   "language": "python",
   "name": "python3"
  },
  "language_info": {
   "codemirror_mode": {
    "name": "ipython",
    "version": 3
   },
   "file_extension": ".py",
   "mimetype": "text/x-python",
   "name": "python",
   "nbconvert_exporter": "python",
   "pygments_lexer": "ipython3",
   "version": "3.9.13"
  }
 },
 "nbformat": 4,
 "nbformat_minor": 5
}
