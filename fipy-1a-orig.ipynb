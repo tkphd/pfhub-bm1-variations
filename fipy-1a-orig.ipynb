{
 "cells": [
  {
   "cell_type": "markdown",
   "id": "9a3d053f",
   "metadata": {},
   "source": [
    "# PFHub BM 1a in FiPy with Steppyngstounes\n",
    "\n",
    "This notebook implements [PFHub] Benchmark [1a][spinodal] using [FiPy] and [steppyngstounes].\n",
    "It also explores alternative initial conditions that are more-periodic than the specification.\n",
    "\n",
    "<!-- links -->\n",
    "[FiPy]: https://www.ctcms.nist.gov/fipy\n",
    "[spinodal]: https://pages.nist.gov/pfhub/benchmarks/benchmark1.ipynb/#(a)-Square-periodic\n",
    "[steppyngstounes]: https://github.com/usnistgov/steppyngstounes\n",
    "[PFHub]: https://pages.nist.gov/pfhub/"
   ]
  },
  {
   "cell_type": "code",
   "execution_count": null,
   "id": "34f0a1d2",
   "metadata": {
    "scrolled": true
   },
   "outputs": [],
   "source": [
    "%matplotlib inline\n",
    "import gc\n",
    "import ipywidgets as widgets\n",
    "import matplotlib.pyplot as plt\n",
    "import os\n",
    "import pandas as pd\n",
    "import psutil\n",
    "import sympy.abc\n",
    "\n",
    "from IPython.display import display, update_display\n",
    "from sympy import Eq, diff, expand, factor, symbols\n",
    "from tqdm import tqdm\n",
    "import time\n",
    "\n",
    "from steppyngstounes import CheckpointStepper, PIDStepper\n",
    "\n",
    "from fipy import Variable, FaceVariable, CellVariable\n",
    "from fipy import DiffusionTerm, ImplicitSourceTerm, TransientTerm\n",
    "from fipy import numerix, parallel, Viewer\n",
    "\n",
    "from fipy import PeriodicGrid2D as Grid2D\n",
    "from fipy.solvers.petsc import LinearLUSolver as Solver\n",
    "\n",
    "cos = numerix.cos\n",
    "pi = numerix.pi\n",
    "proc = psutil.Process()"
   ]
  },
  {
   "cell_type": "code",
   "execution_count": null,
   "id": "600bbf46",
   "metadata": {},
   "outputs": [],
   "source": [
    "try:\n",
    "    startTime = time.time_ns()\n",
    "    time_has_ns = True\n",
    "except AttributeError:\n",
    "    startTime = time.time()\n",
    "    time_has_ns = False"
   ]
  },
  {
   "cell_type": "markdown",
   "id": "2b0e1e73",
   "metadata": {},
   "source": [
    "## Prepare mesh & phase field"
   ]
  },
  {
   "cell_type": "code",
   "execution_count": null,
   "id": "b5cf13cf",
   "metadata": {},
   "outputs": [],
   "source": [
    "nx = ny = 200\n",
    "dx = dy = 1\n",
    "Lx = nx * dx\n",
    "Ly = ny * dy\n",
    "mesh = Grid2D(nx=nx, ny=ny, dx=dx, dy=dy)"
   ]
  },
  {
   "cell_type": "code",
   "execution_count": null,
   "id": "f48b25d7",
   "metadata": {},
   "outputs": [],
   "source": [
    "x, y = mesh.cellCenters\n",
    "c = CellVariable(mesh=mesh, name=r\"$c$\",   value=0.0, hasOld=True)\n",
    "μ = CellVariable(mesh=mesh, name=r\"$\\mu$\", value=0.5, hasOld=True)"
   ]
  },
  {
   "cell_type": "markdown",
   "id": "2931affb",
   "metadata": {},
   "source": [
    "## Define equations of motion\n",
    "\n",
    "This is based on [fipy.examples.cahnHilliard.mesh2DCoupled](https://www.ctcms.nist.gov/fipy/examples/cahnHilliard/generated/examples.cahnHilliard.mesh2DCoupled.html). The coupled equations are\n",
    "\n",
    "$$\n",
    "\\frac{\\partial c}{\\partial t} = \\nabla \\cdot \\nabla\\mu\n",
    "$$\n",
    "\n",
    "$$\n",
    "\\mu = \\left(\\frac{\\partial f}{\\partial c} - \\frac{\\partial^2 f}{\\partial c^2} \\cdot c\\right)_{\\mathrm{old}} + \\frac{\\partial^2 f}{\\partial c^2}\\cdot c - \\kappa \\nabla^2 c\n",
    "$$\n",
    "\n",
    "where the second term on $\\mu$ is an `ImplicitSourceTerm` and the last is a `DiffusionTerm`."
   ]
  },
  {
   "cell_type": "code",
   "execution_count": null,
   "id": "2cb781ff",
   "metadata": {},
   "outputs": [],
   "source": [
    "fchem = sympy.abc.rho * (sympy.abc.c - sympy.abc.alpha)**2 \\\n",
    "                      * (sympy.abc.beta - sympy.abc.c)**2\n",
    "\n",
    "display(Eq(symbols(\"f\"), fchem))\n",
    "display(Eq(symbols(\"f'\"), factor(diff(fchem,\n",
    "                                     sympy.abc.c))))\n",
    "display(Eq(symbols(\"f''\"), factor(expand(diff(fchem,\n",
    "                                             sympy.abc.c,\n",
    "                                             sympy.abc.c)))))"
   ]
  },
  {
   "cell_type": "markdown",
   "id": "9df0bb19",
   "metadata": {},
   "source": [
    "$$f_{\\mathrm{c}} = \\rho (c - \\alpha)^2 (\\beta - c)^2$$\n",
    "\n",
    "$$f'_{\\mathrm{c}} = 2\\rho (c - \\alpha)(\\beta - c)(\\alpha - 2c + \\beta)$$\n",
    "\n",
    "$$f''_{\\mathrm{c}} = 2\\rho\\left\\{\\alpha^2 + 4 \\alpha \\beta + \\beta^2 - 6 c \\left(\\alpha - c + \\beta\\right)\\right\\}$$"
   ]
  },
  {
   "cell_type": "code",
   "execution_count": null,
   "id": "f6e66da6",
   "metadata": {},
   "outputs": [],
   "source": [
    "α = 0.3\n",
    "β = 0.7\n",
    "ρ = 5\n",
    "\n",
    "fc = ρ * (c - α)**2 * (β - c)**2\n",
    "dfdc = 2 * ρ * (c - α) * (β - c) * (α - 2 * c + β)\n",
    "d2fc = 2 * ρ * (α**2 + 4*α*β + β**2 \\\n",
    "                  - 6 * c * (α - c + β))"
   ]
  },
  {
   "cell_type": "code",
   "execution_count": null,
   "id": "d8bb3e75",
   "metadata": {},
   "outputs": [],
   "source": [
    "κ = 2\n",
    "M = 5\n",
    "\n",
    "eom_c = TransientTerm(var=c) == DiffusionTerm(coeff=M, var=μ)\n",
    "eom_μ = ImplicitSourceTerm(coeff=1.0, var=μ) \\\n",
    "     == (dfdc - d2fc * c) \\\n",
    "      + ImplicitSourceTerm(coeff=d2fc, var=c) \\\n",
    "      - DiffusionTerm(coeff=κ, var=c)\n",
    "\n",
    "eom = eom_c & eom_μ"
   ]
  },
  {
   "cell_type": "markdown",
   "id": "cb5839aa",
   "metadata": {},
   "source": [
    "## Initial Conditions"
   ]
  },
  {
   "cell_type": "code",
   "execution_count": null,
   "id": "2b906b96",
   "metadata": {},
   "outputs": [],
   "source": [
    "t = Variable(0)\n",
    "dt = Variable(1e-5)\n",
    "\n",
    "c0 = 0.5\n",
    "ϵ = 0.01\n",
    "\n",
    "def initialize(A, B):\n",
    "    return c0 + ϵ * (\n",
    "           cos(A[0] * x) * cos(B[0] * y) \\\n",
    "        + (cos(A[1] * x) * cos(B[1] * y))**2 \\\n",
    "        +  cos(A[2] * x  +     B[2] * y) \\\n",
    "        *  cos(A[3] * x  +     B[3] * y)\n",
    "    )"
   ]
  },
  {
   "cell_type": "code",
   "execution_count": null,
   "id": "6eedb522",
   "metadata": {},
   "outputs": [],
   "source": [
    "# BM 1a specification: not periodic at all\n",
    "\n",
    "A0 = [0.105, 0.130, 0.025, 0.070]\n",
    "B0 = [0.110, 0.087,-0.150,-0.020]\n",
    "\n",
    "c.value = initialize(A0, B0)\n",
    "\n",
    "c.updateOld()\n",
    "μ.updateOld()\n",
    "\n",
    "iodir = \"1a.0\"\n",
    "\n",
    "if not os.path.exists(iodir):\n",
    "    os.mkdir(iodir)"
   ]
  },
  {
   "cell_type": "code",
   "execution_count": null,
   "id": "1afe841b",
   "metadata": {
    "scrolled": false
   },
   "outputs": [],
   "source": [
    "viewer = Viewer(vars=(c,), datamin=0., datamax=1., cmap=\"coolwarm\")\n",
    "\n",
    "def write_img():\n",
    "    viewer.title = r\"$t=%g$\" % t\n",
    "    viewer.plot(\"{iodir}/comp_{t:0>12.0f}.png\")\n",
    "    \n",
    "write_img()"
   ]
  },
  {
   "cell_type": "markdown",
   "id": "2355684f",
   "metadata": {},
   "source": [
    "## Prepare free energy output"
   ]
  },
  {
   "cell_type": "code",
   "execution_count": null,
   "id": "a129002a",
   "metadata": {},
   "outputs": [],
   "source": [
    "df = None\n",
    "\n",
    "def update_energy():\n",
    "    nrg = numerix.sum(fc - 0.5 * κ * numerix.dot(c.grad, c.grad))\n",
    "    mas = numerix.sum(c)\n",
    "    mem = proc.memory_info().rss / 1024**2\n",
    "    if time_has_ns:\n",
    "        timer = 1e-9 * (time.time_ns() - startTime)\n",
    "    else:\n",
    "        timer = time.time() - startTime\n",
    "    if parallel.procID == 0:\n",
    "        labs = [\"wall_time\", \"time\", \"free_energy\",\n",
    "                \"mem_MB\", \"timestep\", \"mass\"]\n",
    "        vals = [[timer, t, nrg, mem, dt, mas]]\n",
    "        indx = [0] if df is None \\\n",
    "                   else [len(df)]\n",
    "        \n",
    "        return pd.concat([df,\n",
    "                          pd.DataFrame(vals,\n",
    "                                       columns=labs,\n",
    "                                       index=indx)]\n",
    "                        )\n",
    "   \n",
    "df = update_energy()\n",
    "\n",
    "# disp_nrg = display(df.tail(), display_id=\"nrg\")"
   ]
  },
  {
   "cell_type": "markdown",
   "id": "eed29622",
   "metadata": {},
   "source": [
    "## Timestepping"
   ]
  },
  {
   "cell_type": "code",
   "execution_count": null,
   "id": "f04765dd",
   "metadata": {},
   "outputs": [],
   "source": [
    "fin = 2e6\n",
    "rtol = 1e-3\n",
    "solver = Solver()\n",
    "\n",
    "# Write an image every 1, 2, 5, 10, 20, 50, ...\n",
    "chkpts = [p * 10**q \\\n",
    "          for q in range(6) \\\n",
    "          for p in (1, 2, 5)]"
   ]
  },
  {
   "cell_type": "code",
   "execution_count": null,
   "id": "b44333b3",
   "metadata": {},
   "outputs": [],
   "source": [
    "for check in CheckpointStepper(start=0.0,\n",
    "                               stops=chkpts\n",
    "                               stop=fin):\n",
    "    for step in PIDStepper(start=check.begin,\n",
    "                           stop=check.end, \n",
    "                           size=dt):\n",
    "        for sweep in range(2):\n",
    "            res = eom.sweep(dt=step.size, solver=solver)\n",
    "    \n",
    "        if step.succeeded(error=res/rtol):\n",
    "            t.value = step.end\n",
    "            dt = step.size\n",
    "            c.updateOld()\n",
    "            μ.updateOld()\n",
    "            df = update_energy()\n",
    "        else:\n",
    "            c.value = c.old\n",
    "            μ.value = μ.old\n",
    "\n",
    "        gc.collect()\n",
    "        \n",
    "    if check.succeeded():\n",
    "        dt = step.want\n",
    "        df.to_csv(\"{iodir}/energy.csv.gz\")\n",
    "        write_img()\n",
    "        # update_display(df.tail(), display_id=\"nrg\")\n",
    "        # update_display(viewer.plot(), display_id=\"plt\")\n",
    "        # viewer.title = r\"$t=%g$\" % t\n",
    "        # viewer.plot()"
   ]
  },
  {
   "cell_type": "code",
   "execution_count": null,
   "id": "629d2be6",
   "metadata": {},
   "outputs": [],
   "source": []
  }
 ],
 "metadata": {
  "kernelspec": {
   "display_name": "Python 3 (ipykernel)",
   "language": "python",
   "name": "python3"
  },
  "language_info": {
   "codemirror_mode": {
    "name": "ipython",
    "version": 3
   },
   "file_extension": ".py",
   "mimetype": "text/x-python",
   "name": "python",
   "nbconvert_exporter": "python",
   "pygments_lexer": "ipython3",
   "version": "3.9.13"
  }
 },
 "nbformat": 4,
 "nbformat_minor": 5
}
