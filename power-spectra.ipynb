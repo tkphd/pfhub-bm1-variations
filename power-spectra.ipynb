{
 "cells": [
  {
   "cell_type": "markdown",
   "id": "6ce0295f-45d7-4585-a3f7-2d609adabd2d",
   "metadata": {},
   "source": [
    "# Spinodal Decomposition Power Spectra\n",
    "\n",
    "In addition to point-by-point comparison to the gold standard, we can use the Fourier transform to identify characteristic length-scales and compare the power spectra of the simulation data."
   ]
  },
  {
   "cell_type": "code",
   "execution_count": 1,
   "id": "f0427ebd-84b3-46b7-9915-ac39e36fe66b",
   "metadata": {},
   "outputs": [],
   "source": [
    "%matplotlib inline\n",
    "\n",
    "import matplotlib.pyplot as plt\n",
    "import numpy as np\n",
    "import os\n",
    "from pathlib import Path\n",
    "import sys\n",
    "sys.path.append(Path().resolve())\n",
    "from spectral import autocorrelation, radial_profile"
   ]
  },
  {
   "cell_type": "code",
   "execution_count": 2,
   "id": "1a12dfbf-44ab-46b1-96e5-2328902b498d",
   "metadata": {},
   "outputs": [],
   "source": [
    "gold_k = 0.1250  # timestep -- constant across simulations\n",
    "gold_h = 0.0625  # mesh resolution -- varies per simulation\n",
    "coar_h = 3.1250  # coarse data mesh resolution\n",
    "\n",
    "datdir = \"/working/tnk10/phase-field/pfhub/bm1-variations\"\n",
    "\n",
    "golden = f\"dt{gold_k:06.04f}_dx{gold_h:08.04f}\"\n",
    "coarse = f\"dt{gold_k:06.04f}_dx{coar_h:08.04f}\"\n",
    "\n",
    "variant = \"original\"\n",
    "checkpt = 4_000\n",
    "\n",
    "variants = {\n",
    "    variant: {\n",
    "        \"golden\": os.path.join(datdir, variant, golden),\n",
    "        \"coarse\": os.path.join(datdir, variant, coarse),\n",
    "    },\n",
    "}"
   ]
  },
  {
   "cell_type": "code",
   "execution_count": 3,
   "id": "f00877e3-c5d4-4718-9fc7-037543898404",
   "metadata": {},
   "outputs": [],
   "source": [
    "a_dir = variants[variant][\"golden\"]\n",
    "a_dat = np.load(os.path.join(a_dir, f\"c_{checkpt:08d}.npz\"))[\"c\"]\n",
    "\n",
    "a_cor = autocorrelation(a_dat)\n",
    "a_r, a_μ = radial_profile(a_cor)\n",
    "a_r = gold_h * np.array(a_r)"
   ]
  },
  {
   "cell_type": "code",
   "execution_count": 4,
   "id": "aef2305b-4b2a-4302-8eca-3399b8b456bb",
   "metadata": {},
   "outputs": [
    {
     "ename": "FileNotFoundError",
     "evalue": "[Errno 2] No such file or directory: '/working/tnk10/phase-field/pfhub/bm1-variations/original/dt0.1250_dx003.1250/interp/k_00004000_h0.0625.npz'",
     "output_type": "error",
     "traceback": [
      "\u001b[0;31m---------------------------------------------------------------------------\u001b[0m",
      "\u001b[0;31mFileNotFoundError\u001b[0m                         Traceback (most recent call last)",
      "Cell \u001b[0;32mIn[4], line 2\u001b[0m\n\u001b[1;32m      1\u001b[0m b_dir \u001b[38;5;241m=\u001b[39m variants[variant][\u001b[38;5;124m\"\u001b[39m\u001b[38;5;124mcoarse\u001b[39m\u001b[38;5;124m\"\u001b[39m]\n\u001b[0;32m----> 2\u001b[0m b_dat \u001b[38;5;241m=\u001b[39m \u001b[43mnp\u001b[49m\u001b[38;5;241;43m.\u001b[39;49m\u001b[43mload\u001b[49m\u001b[43m(\u001b[49m\u001b[43mos\u001b[49m\u001b[38;5;241;43m.\u001b[39;49m\u001b[43mpath\u001b[49m\u001b[38;5;241;43m.\u001b[39;49m\u001b[43mjoin\u001b[49m\u001b[43m(\u001b[49m\u001b[43mb_dir\u001b[49m\u001b[43m,\u001b[49m\u001b[43m \u001b[49m\u001b[38;5;124;43mf\u001b[39;49m\u001b[38;5;124;43m\"\u001b[39;49m\u001b[38;5;124;43minterp/k_\u001b[39;49m\u001b[38;5;132;43;01m{\u001b[39;49;00m\u001b[43mcheckpt\u001b[49m\u001b[38;5;132;43;01m:\u001b[39;49;00m\u001b[38;5;124;43m08d\u001b[39;49m\u001b[38;5;132;43;01m}\u001b[39;49;00m\u001b[38;5;124;43m_h\u001b[39;49m\u001b[38;5;132;43;01m{\u001b[39;49;00m\u001b[43mgold_h\u001b[49m\u001b[38;5;132;43;01m:\u001b[39;49;00m\u001b[38;5;124;43m06.04f\u001b[39;49m\u001b[38;5;132;43;01m}\u001b[39;49;00m\u001b[38;5;124;43m.npz\u001b[39;49m\u001b[38;5;124;43m\"\u001b[39;49m\u001b[43m)\u001b[49m\u001b[43m)\u001b[49m[\u001b[38;5;124m\"\u001b[39m\u001b[38;5;124mc\u001b[39m\u001b[38;5;124m\"\u001b[39m]\n\u001b[1;32m      4\u001b[0m b_cor \u001b[38;5;241m=\u001b[39m autocorrelation(b_dat)\n\u001b[1;32m      5\u001b[0m b_r, b_μ \u001b[38;5;241m=\u001b[39m radial_profile(b_cor)\n",
      "File \u001b[0;32m/toolbox/tnk10/opt/anaconda/envs/py3/lib/python3.12/site-packages/numpy/lib/npyio.py:427\u001b[0m, in \u001b[0;36mload\u001b[0;34m(file, mmap_mode, allow_pickle, fix_imports, encoding, max_header_size)\u001b[0m\n\u001b[1;32m    425\u001b[0m     own_fid \u001b[38;5;241m=\u001b[39m \u001b[38;5;28;01mFalse\u001b[39;00m\n\u001b[1;32m    426\u001b[0m \u001b[38;5;28;01melse\u001b[39;00m:\n\u001b[0;32m--> 427\u001b[0m     fid \u001b[38;5;241m=\u001b[39m stack\u001b[38;5;241m.\u001b[39menter_context(\u001b[38;5;28;43mopen\u001b[39;49m\u001b[43m(\u001b[49m\u001b[43mos_fspath\u001b[49m\u001b[43m(\u001b[49m\u001b[43mfile\u001b[49m\u001b[43m)\u001b[49m\u001b[43m,\u001b[49m\u001b[43m \u001b[49m\u001b[38;5;124;43m\"\u001b[39;49m\u001b[38;5;124;43mrb\u001b[39;49m\u001b[38;5;124;43m\"\u001b[39;49m\u001b[43m)\u001b[49m)\n\u001b[1;32m    428\u001b[0m     own_fid \u001b[38;5;241m=\u001b[39m \u001b[38;5;28;01mTrue\u001b[39;00m\n\u001b[1;32m    430\u001b[0m \u001b[38;5;66;03m# Code to distinguish from NumPy binary files and pickles.\u001b[39;00m\n",
      "\u001b[0;31mFileNotFoundError\u001b[0m: [Errno 2] No such file or directory: '/working/tnk10/phase-field/pfhub/bm1-variations/original/dt0.1250_dx003.1250/interp/k_00004000_h0.0625.npz'"
     ]
    }
   ],
   "source": [
    "b_dir = variants[variant][\"coarse\"]\n",
    "b_dat = np.load(os.path.join(b_dir, f\"interp/k_{checkpt:08d}_h{gold_h:06.04f}.npz\"))[\"c\"]\n",
    "\n",
    "b_cor = autocorrelation(b_dat)\n",
    "b_r, b_μ = radial_profile(b_cor)\n",
    "b_r = gold_h * np.array(b_r)\n",
    "\n",
    "l2 = np.linalg.norm(a_μ - b_μ)"
   ]
  },
  {
   "cell_type": "code",
   "execution_count": null,
   "id": "74aca057-cfd8-4abf-874b-b37b8671f6fc",
   "metadata": {},
   "outputs": [],
   "source": [
    "plt.figure(figsize=(10,4))\n",
    "plt.suptitle(f\"{variant.capitalize()} IC @ $t={checkpt}$\")\n",
    "# plt.title(f\"$\\ell^2 = {l2:6.4g}$\")\n",
    "plt.xlabel(\"$r$ / [a.u.]\")\n",
    "plt.ylabel(\"$\\\\rho$ / [a.u.]\")\n",
    "plt.plot((0, 100), (0, 0), color=\"silver\")\n",
    "plt.plot(a_r, a_μ, label=f\"golden $(\\\\Delta x={gold_h})$\");\n",
    "plt.plot(b_r, b_μ, label=f\"coarse $(\\\\Delta x={coar_h})$\");\n",
    "plt.legend(loc=\"best\");"
   ]
  },
  {
   "cell_type": "code",
   "execution_count": null,
   "id": "c079d1ac-5a30-4cd1-ada0-ba66dfb1a93e",
   "metadata": {},
   "outputs": [],
   "source": []
  }
 ],
 "metadata": {
  "kernelspec": {
   "display_name": "Python 3 (ipykernel)",
   "language": "python",
   "name": "python3"
  },
  "language_info": {
   "codemirror_mode": {
    "name": "ipython",
    "version": 3
   },
   "file_extension": ".py",
   "mimetype": "text/x-python",
   "name": "python",
   "nbconvert_exporter": "python",
   "pygments_lexer": "ipython3",
   "version": "3.12.1"
  }
 },
 "nbformat": 4,
 "nbformat_minor": 5
}
