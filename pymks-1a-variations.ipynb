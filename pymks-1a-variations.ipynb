{
 "cells": [
  {
   "cell_type": "markdown",
   "id": "cc22bdbc",
   "metadata": {},
   "source": [
    "# PFHub BM 1a in PyMKS for Spectral Solution\n",
    "\n",
    "Based on[@wd15](https://github.com/wd15)'s work,\n",
    "<https://gist.github.com/wd15/ce3c8620fd19ba58f80e4f35da562dda#file-update-ipynb>\n",
    "\n",
    "## Equations for PyMKS\n",
    "\n",
    "PyMKS assumes the field variable $\\varphi$ has minima at -1 and +1.\n",
    "\n",
    "Free energy density:\n",
    "\n",
    "$$ f = \\frac{1}{4} \\left( 1 - \\varphi \\right)^2 \\left(1 +\\varphi\n",
    "\\right)^2 $$\n",
    "\n",
    "The equation of motion:\n",
    "\n",
    "$$\n",
    "  \\frac{\\partial \\varphi}{\\partial \\tau} = \\nabla^2 \\left[ \\frac{\\partial f}{\\partial \\varphi} \\right] - \\gamma \\nabla^4 \\varphi\n",
    "$$\n",
    "\n",
    "becomes\n",
    "\n",
    "$$\n",
    "  \\frac{\\partial \\varphi}{\\partial \\tau} = \\nabla^2 \\left( \\varphi^3 - \\varphi \\right) - \\gamma \\nabla^4 \\varphi\n",
    "$$\n",
    "\n",
    "## Equations for PFHub\n",
    "\n",
    "PFHub BM 1 assumes the field variable $c$ has minima at 0.3 and 0.7.\n",
    "\n",
    "The equation of motion\n",
    "\n",
    "$$\n",
    "  \\frac{\\partial c}{\\partial t} = \\nabla \\cdot \\left\\{ M \\nabla \\left(  \\frac{\\partial f_{\\text{chem}}}{\\partial c} - \\kappa\\nabla^2 c \\right) \\right\\}\n",
    "$$\n",
    "\n",
    "with\n",
    "\n",
    "$$\n",
    "  f_{\\text{chem}} = \\rho_s \\left(c - c_{\\alpha} \\right)^2 \\left(c - c_{\\beta} \\right)^2\n",
    "$$\n",
    "\n",
    "## How to transform between the equations\n",
    "\n",
    "Use the following transformations:\n",
    "\n",
    "$$\n",
    "  c = \\frac{1}{2}\\left(c_{\\beta} - c_{\\alpha} \\right) \\left( 1 + \\varphi \\right) + c_{\\alpha}\n",
    "$$\n",
    "\n",
    "and\n",
    "\n",
    "$$\n",
    "  t = \\tilde{t} \\tau\n",
    "$$\n",
    "\n",
    "Note that $\\tau$ is the new time scale and $\\tilde{t}$ is the transformation constant.\n",
    "With this transformation,\n",
    "\n",
    "$$\n",
    "  \\frac{\\partial f_{\\text{chem}}}{\\partial c} = \\frac{\\rho_s}{2} \\left( c_{\\beta} - c_{\\alpha} \\right)^3 \\left( \\varphi^3 - \\varphi \\right)\n",
    "$$\n",
    "\n",
    "after substitution. The benchmark equation then becomes\n",
    "\n",
    "$$\n",
    "  \\frac{1}{\\tilde{t} M \\rho_s \\left( c_{\\beta} - c_{\\alpha} \\right)^2 } \\dot{\\varphi} = \\nabla^2 \\left( \\varphi^3 - \\varphi \\right)  - \\frac{\\kappa}{\\left( c_{\\beta} - c_{\\alpha} \\right)^2 \\rho_s } \\nabla^4 \\varphi\n",
    "$$\n",
    "\n",
    "So to make this work, we need to choose\n",
    "\n",
    "$$\n",
    "  \\tilde{t} = \\frac{1}{M \\rho_s \\left( c_{\\beta} - c_{\\alpha} \\right)^2 }\n",
    "$$\n",
    "\n",
    "That's our time scale transformation between pymks and the benchmark problem. Also $\\gamma$ is chosen to be\n",
    "\n",
    "$$\n",
    "  \\gamma = \\frac{\\kappa}{\\left( c_{\\beta} - c_{\\alpha} \\right)^2 \\rho_s }\n",
    "$$\n",
    "\n",
    "and\n",
    "\n",
    "$$\n",
    "  \\dot{\\varphi} = \\frac{\\partial \\varphi}{\\partial \\tau} = \\nabla^2 \\left( \\varphi^3 - \\varphi \\right) - \\gamma \\nabla^4 \\varphi\n",
    "$$"
   ]
  },
  {
   "cell_type": "code",
   "execution_count": null,
   "id": "bd656da6",
   "metadata": {},
   "outputs": [],
   "source": [
    "from warnings import filterwarnings\n",
    "filterwarnings(\"ignore\", category=DeprecationWarning)\n",
    "filterwarnings(\"ignore\", category=UserWarning)\n",
    "\n",
    "import gc\n",
    "import matplotlib as mpl\n",
    "import matplotlib.pyplot as plt\n",
    "import numpy as np\n",
    "import os\n",
    "import psutil\n",
    "import time\n",
    "\n",
    "from pymks import solve_cahn_hilliard\n",
    "from pymks.fmks.func import curry\n",
    "from steppyngstounes import CheckpointStepper, FixedStepper\n",
    "from tqdm import tqdm"
   ]
  },
  {
   "cell_type": "markdown",
   "id": "dbc62dd7",
   "metadata": {},
   "source": [
    "Choose your variant and numerical limits of interest"
   ]
  },
  {
   "cell_type": "code",
   "execution_count": null,
   "id": "152184e4",
   "metadata": {},
   "outputs": [],
   "source": [
    "variant = \"orig\"  # one of \"orig\", \"peri\", or \"zany\"\n",
    "dx = 0.9\n",
    "dt = 0.1\n",
    "t_fin = 200_000"
   ]
  },
  {
   "cell_type": "code",
   "execution_count": null,
   "id": "d4607ffa",
   "metadata": {},
   "outputs": [],
   "source": [
    "startTime = time.time()"
   ]
  },
  {
   "cell_type": "code",
   "execution_count": null,
   "id": "6c1e0bdd",
   "metadata": {},
   "outputs": [],
   "source": [
    "mpl.use(\"agg\")\n",
    "proc = psutil.Process()"
   ]
  },
  {
   "cell_type": "code",
   "execution_count": null,
   "id": "e2c5da05",
   "metadata": {},
   "outputs": [],
   "source": [
    "if not os.path.exists(f\"pymks/{variant}\"):\n",
    "    if not os.path.exists(\"pymks\"):\n",
    "        os.mkdir(\"pymks\")\n",
    "    os.mkdir(f\"pymks/{variant}\")"
   ]
  },
  {
   "cell_type": "markdown",
   "id": "f2041321",
   "metadata": {},
   "source": [
    "Domain & numerical parameters"
   ]
  },
  {
   "cell_type": "code",
   "execution_count": null,
   "id": "c26d075d",
   "metadata": {},
   "outputs": [],
   "source": [
    "Lx = Ly = 200\n",
    "Nx = Ny = int(np.ceil(Lx / dx))"
   ]
  },
  {
   "cell_type": "markdown",
   "id": "215afdc0",
   "metadata": {},
   "source": [
    "Define initial conditionsc"
   ]
  },
  {
   "cell_type": "code",
   "execution_count": null,
   "id": "206cc2b5",
   "metadata": {},
   "outputs": [],
   "source": [
    "if variant == \"orig\":\n",
    "    # BM 1a specification: not periodic at all\n",
    "    A0 = np.array([0.105, 0.130, 0.025, 0.070])\n",
    "    B0 = np.array([0.110, 0.087,-0.150,-0.020])\n",
    "elif variant == \"peri\":\n",
    "    # Even integers as close to spec as achievable:\n",
    "    # exactly periodic at the domain boundaries\n",
    "    A0 = np.pi/Lx * np.array([6.0, 8.0, 2.0, 4.0])\n",
    "    B0 = np.pi/Ly * np.array([8.0, 6.0,-10.,-2.0])\n",
    "elif variant == \"zany\":\n",
    "    # Perturbation of the periodic coefficients:\n",
    "    # almost periodic, visually similar to the original\n",
    "    A0 = np.pi/Lx * np.array([6.125, 7.875, 2.125, 4.125])\n",
    "    B0 = np.pi/Ly * np.array([7.875, 5.125,-9.875,-1.875])\n",
    "else:\n",
    "    raise ValueError(\"Variant {} undefined.\".format(variant))"
   ]
  },
  {
   "cell_type": "code",
   "execution_count": null,
   "id": "1b92decf",
   "metadata": {},
   "outputs": [],
   "source": [
    "α = 0.3\n",
    "β = 0.7\n",
    "M = 5\n",
    "κ = 2\n",
    "ρ = 5\n",
    "γ = κ / (ρ * (β - α)**2)"
   ]
  },
  {
   "cell_type": "code",
   "execution_count": null,
   "id": "89dba8e6",
   "metadata": {
    "lines_to_next_cell": 1
   },
   "outputs": [],
   "source": [
    "solve_ = curry(solve_cahn_hilliard)\n",
    "solve = solve_(n_steps=1, delta_x=dx, gamma=γ)"
   ]
  },
  {
   "cell_type": "markdown",
   "id": "8f892227",
   "metadata": {},
   "source": [
    "Define helper functions"
   ]
  },
  {
   "cell_type": "code",
   "execution_count": null,
   "id": "88a0640d",
   "metadata": {
    "lines_to_next_cell": 1
   },
   "outputs": [],
   "source": [
    "def f_chem(c):\n",
    "    return ρ * (c - α)**2 * (c - β)**2"
   ]
  },
  {
   "cell_type": "code",
   "execution_count": null,
   "id": "c079a9e3",
   "metadata": {
    "lines_to_next_cell": 1
   },
   "outputs": [],
   "source": [
    "def get_conc_time(time):\n",
    "    return time / (M * ρ * (β - α)**2)"
   ]
  },
  {
   "cell_type": "code",
   "execution_count": null,
   "id": "a2b13476",
   "metadata": {
    "lines_to_next_cell": 1
   },
   "outputs": [],
   "source": [
    "def get_phi_time(bench_t):\n",
    "    return bench_t / get_conc_time(1.)"
   ]
  },
  {
   "cell_type": "code",
   "execution_count": null,
   "id": "b8ac5cc6",
   "metadata": {
    "lines_to_next_cell": 1
   },
   "outputs": [],
   "source": [
    "def get_conc(φ):\n",
    "    return (1 + φ) * (β - α) / 2 + α"
   ]
  },
  {
   "cell_type": "code",
   "execution_count": null,
   "id": "50fb1715",
   "metadata": {
    "lines_to_next_cell": 1
   },
   "outputs": [],
   "source": [
    "def get_phi(c):\n",
    "    return 2 * (c - α) / (β - α) - 1"
   ]
  },
  {
   "cell_type": "code",
   "execution_count": null,
   "id": "780229de",
   "metadata": {
    "lines_to_next_cell": 1
   },
   "outputs": [],
   "source": [
    "def initialize(A, B, x, y):\n",
    "    return 0.5 + 0.01 * (\n",
    "           np.cos(A[0] * x) * np.cos(B[0] * y) \\\n",
    "        + (np.cos(A[1] * x) * np.cos(B[1] * y))**2 \\\n",
    "        +  np.cos(A[2] * x  +        B[2] * y) \\\n",
    "        *  np.cos(A[3] * x  +        B[3] * y))"
   ]
  },
  {
   "cell_type": "code",
   "execution_count": null,
   "id": "448529e6",
   "metadata": {
    "lines_to_next_cell": 1
   },
   "outputs": [],
   "source": [
    "def calc_grad_mag_sq(conc):\n",
    "    cx = np.concatenate((conc[-1:, :], conc, conc[:1, :]), axis=0)\n",
    "    cy = np.concatenate((conc[:, -1:], conc, conc[:, :1]), axis=1)\n",
    "    c_x = (cx[2:, :] - cx[:-2, :]) / (2 * dx)\n",
    "    c_y = (cy[:, 2:] - cy[:, :-2]) / (2 * dx)\n",
    "\n",
    "    return np.sum((c_x**2 + c_y**2))"
   ]
  },
  {
   "cell_type": "code",
   "execution_count": null,
   "id": "6f2d953d",
   "metadata": {
    "lines_to_next_cell": 1
   },
   "outputs": [],
   "source": [
    "def calc_f_total(φ, dx, κ):\n",
    "    conc = get_conc(φ)\n",
    "    return (np.sum(f_chem(conc)) + 0.5 * κ * calc_grad_mag_sq(conc)) * dx**2"
   ]
  },
  {
   "cell_type": "code",
   "execution_count": null,
   "id": "507999d7",
   "metadata": {},
   "outputs": [],
   "source": [
    "def write_plot(data, t=0.0):\n",
    "    imgname = \"pymks/%s/spectral.%08d.png\" % (variant, int(t))\n",
    "    if not os.path.exists(imgname):\n",
    "        plt.figure()\n",
    "        plt.title(r\"$t = %s$\" % \"{:,}\".format(int(t)))\n",
    "        plt.imshow(data)\n",
    "        plt.colorbar()\n",
    "        plt.savefig(imgname, bbox_inches=\"tight\", dpi=400)\n",
    "        plt.close()"
   ]
  },
  {
   "cell_type": "code",
   "execution_count": null,
   "id": "694b5fe1",
   "metadata": {},
   "outputs": [],
   "source": [
    "initial_conc = lambda x, y: initialize(A0, B0, x, y)"
   ]
  },
  {
   "cell_type": "code",
   "execution_count": null,
   "id": "75fd7d1f",
   "metadata": {},
   "outputs": [],
   "source": [
    "xx = np.linspace(dx / 2, Lx - dx / 2, Nx)\n",
    "yy = np.linspace(dx / 2, Ly - dx / 2, Ny)\n",
    "x, y = np.meshgrid(xx, yy)"
   ]
  },
  {
   "cell_type": "code",
   "execution_count": null,
   "id": "580814d8",
   "metadata": {},
   "outputs": [],
   "source": [
    "φ_ini = get_phi(initial_conc(x, y))"
   ]
  },
  {
   "cell_type": "code",
   "execution_count": null,
   "id": "27d655f8",
   "metadata": {},
   "outputs": [],
   "source": [
    "def run(timesteps, dt_conc):\n",
    "    τ_fin = np.ceil(get_phi_time(timesteps))\n",
    "    dt_phi = get_phi_time(dt_conc)\n",
    "\n",
    "    φ = np.reshape(φ_ini, (1, Nx, Ny))\n",
    "\n",
    "    print(\"t={:,d} -> τ={:,d}\".format(int(timesteps), int(τ_fin)))\n",
    "\n",
    "    # Write to disk uniformly in logarithmic space\n",
    "    checkpoints = np.logspace(\n",
    "        0.0,\n",
    "        np.log(τ_fin),\n",
    "        num=100,\n",
    "        base=np.e\n",
    "    )\n",
    "\n",
    "    τ = 0.0\n",
    "    time_energy = []\n",
    "    write_plot(φ[0])\n",
    "\n",
    "    progress = tqdm(CheckpointStepper(start=0,\n",
    "                                      stops=checkpoints,\n",
    "                                      stop=τ_fin),\n",
    "                    unit=\"step\",\n",
    "                    total=len(checkpoints),\n",
    "                    bar_format='{l_bar}{bar:40}{r_bar}{bar:-40b}')\n",
    "\n",
    "    for check in progress:\n",
    "        for step in FixedStepper(start=check.begin,\n",
    "                                 stop=check.end,\n",
    "                                 size=dt_phi):\n",
    "            label = \"[{:>13.2f} .. {:>13.2f})\".format(τ, check.end)\n",
    "            progress.set_description(label)\n",
    "\n",
    "            φ = solve(φ, delta_t=step.size).compute()\n",
    "            τ += step.size\n",
    "\n",
    "            time_energy.append([time.time() - startTime,\n",
    "                                get_conc_time(τ),\n",
    "                                calc_f_total(φ, dx, κ),\n",
    "                                proc.memory_info().rss / 1024])\n",
    "\n",
    "            _ = step.succeeded()\n",
    "\n",
    "        gc.collect()\n",
    "\n",
    "        write_plot(φ[0], time_energy[-1][1])\n",
    "\n",
    "        _ = check.succeeded()\n",
    "\n",
    "    return np.array(time_energy)"
   ]
  },
  {
   "cell_type": "code",
   "execution_count": null,
   "id": "37806511",
   "metadata": {},
   "outputs": [],
   "source": [
    "time_energy = run(t_fin, dt)"
   ]
  },
  {
   "cell_type": "code",
   "execution_count": null,
   "id": "3f246891",
   "metadata": {},
   "outputs": [],
   "source": [
    "np.savetxt(f\"pymks/{variant}/free_energy.csv\",\n",
    "           time_energy,\n",
    "           delimiter=\",\",\n",
    "           header=\"wall_time,time,free_energy,mem_KB\",\n",
    "           fmt=\"%.12f\")"
   ]
  },
  {
   "cell_type": "code",
   "execution_count": null,
   "id": "6737a3ab",
   "metadata": {},
   "outputs": [],
   "source": [
    "plt.figure(figsize=(10,8))\n",
    "plt.xlabel(r\"simulation time $t$\")\n",
    "plt.ylabel(r\"free energy $\\mathcal{F}$\")\n",
    "plt.loglog(time_energy[:, 1], time_energy[:, 2])\n",
    "plt.savefig(f\"pymks/{variant}/energy.png\",\n",
    "            bbox_inches=\"tight\", dpi=400)\n",
    "plt.close()"
   ]
  },
  {
   "cell_type": "code",
   "execution_count": null,
   "id": "dd9ebdae",
   "metadata": {},
   "outputs": [],
   "source": [
    "plt.figure(figsize=(10,8))\n",
    "plt.xlabel(r\"simulation time $t$\")\n",
    "plt.ylabel(r\"memory / [KB]\")\n",
    "plt.plot(time_energy[:, 0], time_energy[:, 3])\n",
    "plt.savefig(f\"pymks/{variant}/memory.png\",\n",
    "            bbox_inches=\"tight\", dpi=400)\n",
    "plt.close()"
   ]
  }
 ],
 "metadata": {
  "jupytext": {
   "executable": "/usr/bin/python3"
  },
  "kernelspec": {
   "display_name": "Python 3 (ipykernel)",
   "language": "python",
   "name": "python3"
  }
 },
 "nbformat": 4,
 "nbformat_minor": 5
}
